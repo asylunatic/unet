{
  "nbformat": 4,
  "nbformat_minor": 0,
  "metadata": {
    "colab": {
      "name": "Reproducability Project - Pytorch",
      "provenance": [],
      "collapsed_sections": [
        "ElnTYsMr4gY4"
      ],
      "include_colab_link": true
    },
    "kernelspec": {
      "name": "python3",
      "display_name": "Python 3"
    },
    "accelerator": "GPU"
  },
  "cells": [
    {
      "cell_type": "markdown",
      "metadata": {
        "id": "view-in-github",
        "colab_type": "text"
      },
      "source": [
        "<a href=\"https://colab.research.google.com/github/asylunatic/unet/blob/master/Reproducability_Project_Pytorch.ipynb\" target=\"_parent\"><img src=\"https://colab.research.google.com/assets/colab-badge.svg\" alt=\"Open In Colab\"/></a>"
      ]
    },
    {
      "cell_type": "markdown",
      "metadata": {
        "id": "zK9karl48IHJ",
        "colab_type": "text"
      },
      "source": [
        "# Imports & Installs"
      ]
    },
    {
      "cell_type": "code",
      "metadata": {
        "id": "OzrTR2PL8LId",
        "colab_type": "code",
        "outputId": "ae8b3dbf-ba7f-4d14-8792-995b8eaeb7f7",
        "colab": {
          "base_uri": "https://localhost:8080/",
          "height": 102
        }
      },
      "source": [
        "!pip install torch torchvision\n",
        "!pip install -q elasticdeform\n",
        "\n",
        "import torch\n",
        "torch.manual_seed(0)\n",
        "\n",
        "import torch.optim as optim\n",
        "import torchvision.transforms as transforms\n",
        "\n",
        "from torch.utils.data import DataLoader, Dataset\n",
        "from torch import nn\n",
        "\n",
        "import os\n",
        "import time\n",
        "import math\n",
        "\n",
        "\n",
        "import matplotlib.pyplot as plt\n",
        "from matplotlib.ticker import MultipleLocator\n",
        "\n",
        "import numpy as np\n",
        "np.random.seed(1)\n",
        "\n",
        "\n",
        "from PIL import Image\n",
        "from pathlib import Path\n",
        "\n",
        "from typing import Tuple\n",
        "\n",
        "from google.colab import drive"
      ],
      "execution_count": 90,
      "outputs": [
        {
          "output_type": "stream",
          "text": [
            "Requirement already satisfied: torch in /usr/local/lib/python3.6/dist-packages (1.4.0)\n",
            "Requirement already satisfied: torchvision in /usr/local/lib/python3.6/dist-packages (0.5.0)\n",
            "Requirement already satisfied: pillow>=4.1.1 in /usr/local/lib/python3.6/dist-packages (from torchvision) (7.0.0)\n",
            "Requirement already satisfied: six in /usr/local/lib/python3.6/dist-packages (from torchvision) (1.12.0)\n",
            "Requirement already satisfied: numpy in /usr/local/lib/python3.6/dist-packages (from torchvision) (1.18.2)\n"
          ],
          "name": "stdout"
        }
      ]
    },
    {
      "cell_type": "markdown",
      "metadata": {
        "id": "-8qJlTQLdeaQ",
        "colab_type": "text"
      },
      "source": [
        "# Download Dataset"
      ]
    },
    {
      "cell_type": "markdown",
      "metadata": {
        "id": "4r-luDLD0cN0",
        "colab_type": "text"
      },
      "source": [
        "To download a dataset from Kaggle, you need a `kaggle.json` file that contains your Kaggle credentials. The `kaggle.json` file can be downloaded from the website under Account > Create new API token. Then `KAGGLE_CONFIG_DIR` should point to the directory that contains the `kaggle.json`. "
      ]
    },
    {
      "cell_type": "code",
      "metadata": {
        "id": "ebBEIKH97WyD",
        "colab_type": "code",
        "colab": {}
      },
      "source": [
        "def download_data(tiny_normal: bool, tiny_rotated: bool, large_normal: bool):\n",
        "  \"\"\"Download the different datasets. All datasets are augmented in some way.\n",
        "  \n",
        "  Params\n",
        "  ------\n",
        "  tiny_normal: bool\n",
        "    150 images, elastic deform, no rotation\n",
        "\n",
        "  tiny_rotated: bool\n",
        "    150 images, elastic deform, with rotation\n",
        "\n",
        "  large_normal: bool\n",
        "    1500 images, elastic deform, no rotation\n",
        "  \"\"\"\n",
        "\n",
        "  os.environ['KAGGLE_CONFIG_DIR'] = \"/content/\"\n",
        "\n",
        "  if tiny_normal and not Path('/content/rotated-tiny-augmented-segmentation-challenge-data.zip').exists():\n",
        "    !kaggle datasets download sranjha/rotated-tiny-augmented-segmentation-challenge-data\n",
        "    !unzip -q /content/rotated-tiny-augmented-segmentation-challenge-data.zip -d rotated-tiny-augmented-segmentation-challenge-data\n",
        "  \n",
        "  if tiny_rotated and not Path('/content/split-tiny-augmented-segmentation-challenge-data.zip').exists():\n",
        "    !kaggle datasets download sranjha/split-tiny-augmented-segmentation-challenge-data\n",
        "    !unzip -q /content/split-tiny-augmented-segmentation-challenge-data.zip -d split-tiny-augmented-segmentation-challenge-data\n",
        "  \n",
        "  if large_normal and not Path('/content/50x-augmented-segmentation-challenge-data.zip').exists():\n",
        "    !kaggle datasets download sranjha/50x-augmented-segmentation-challenge-data\n",
        "    !unzip -q /content/50x-augmented-segmentation-challenge-data.zip -d 50x-augmented-segmentation-challenge-data"
      ],
      "execution_count": 0,
      "outputs": []
    },
    {
      "cell_type": "markdown",
      "metadata": {
        "id": "0ei6xs-clF2W",
        "colab_type": "text"
      },
      "source": [
        "# Network Architecture"
      ]
    },
    {
      "cell_type": "markdown",
      "metadata": {
        "id": "qNgG5O0ghg4P",
        "colab_type": "text"
      },
      "source": [
        "## Utility methods\n"
      ]
    },
    {
      "cell_type": "code",
      "metadata": {
        "id": "H2pJoEI7hbxo",
        "colab_type": "code",
        "colab": {}
      },
      "source": [
        "def center_crop_feature_map(feature_map: torch.Tensor, target_tensor: torch.Tensor) -> torch.Tensor:\n",
        "  \"\"\"Center crop a feature map in the x, y dimension to match the size of the \n",
        "  target tensor.\n",
        "  \n",
        "  Params\n",
        "  ------\n",
        "  feature_map: torch.Tensor\n",
        "    an 1 x 1 x H x W tensor representing a feature map\n",
        "\n",
        "  target_tensor: torch.Tensor\n",
        "    an 1 x 1 x H_crop x W_crop tensor whose size should be matched\n",
        "\n",
        "  Returns\n",
        "  -------\n",
        "  torch.Tensor\n",
        "    the feature_map center cropped to 1 x 1 x H_crop x W_crop\n",
        "\n",
        "  \"\"\"\n",
        " \n",
        "  _, _, feature_map_height, feature_map_width = feature_map.size()\n",
        "  _, _, target_height, target_width = target_tensor.size()\n",
        "  diff_y = (feature_map_height - target_height) // 2\n",
        "  diff_x = (feature_map_width - target_width) // 2\n",
        "\n",
        "  \n",
        "  return feature_map[\n",
        "          :, :, diff_y: (diff_y + target_height), diff_x: (diff_x + target_width)\n",
        "          ]\n",
        "\n",
        "def center_crop_image_tensor(in_tensor: torch.Tensor, target_dim: Tuple[int, int]) -> torch.Tensor:\n",
        "  \"\"\"Center crop an image tensor in the x, y dimension to match the target\n",
        "  dimensions.\n",
        "\n",
        "  Params\n",
        "  ------\n",
        "  in_tensor: torch.Tensor\n",
        "    a 1 x H x W tensor representing an image\n",
        "\n",
        "  target_dim: Tuple[int, int]\n",
        "    contains the target dimensions, H_crop and W_crop\n",
        "\n",
        "  Returns\n",
        "  -------\n",
        "  torch.Tensor\n",
        "    the in_tensor center cropped to 1 x H_crop x W_crop\n",
        "\n",
        "  \"\"\"\n",
        "\n",
        "  _, input_height, input_width = in_tensor.size()\n",
        "\n",
        "  diff_y = (input_height - target_dim[0]) // 2\n",
        "  diff_x = (input_width - target_dim[1]) // 2\n",
        "\n",
        "\n",
        "  return in_tensor[:, diff_y : diff_y + target_dim[0], diff_x : diff_x + target_dim[1]]\n",
        "\n",
        "def get_loss(data_loader: DataLoader, net: nn.Module, criterion) -> float:\n",
        "  \"\"\"Get average loss on the data in the given dataloader.\n",
        "  \n",
        "  Params\n",
        "  ------\n",
        "  data_loader: DataLoader\n",
        "    has the data over which the loss should be computed\n",
        "\n",
        "  net: nn.Module\n",
        "    neural net that produces an output\n",
        "\n",
        "  criterion: \n",
        "    loss function\n",
        "\n",
        "  \"\"\"\n",
        "  running_loss = 0\n",
        "  for (image, label) in data_loader:\n",
        "    image = image.cuda(0)\n",
        "    label = label.cuda(0)\n",
        "    out = net(image)\n",
        "\n",
        "    _,_,oh,ow = out.size()\n",
        "      \n",
        "    label = center_crop_image_tensor(label, (oh, ow))\n",
        "      \n",
        "\n",
        "    loss = criterion(out, label)\n",
        "    running_loss += loss.item()\n",
        "  return running_loss / len(data_loader)\n",
        "\n",
        "def plot_learning_curve(train_losses: list, test_losses: list, title: str, save_plot = False):\n",
        "  iterations = range(0, len(train_losses))\n",
        "  plt.figure(figsize=(20,15))\n",
        "  plt.plot(iterations, train_losses, label= \"train\")\n",
        "  plt.plot(iterations, test_losses, label= \"test\")\n",
        "  plt.title(title)\n",
        "  plt.ylabel('loss')\n",
        "  plt.xlabel('epoch')\n",
        "  plt.legend(['train', 'test'], loc='upper left')\n",
        "  if save_plot:\n",
        "    plt.savefig(f\"/content/drive/My Drive/{title}.png\")\n",
        "  plt.show()"
      ],
      "execution_count": 0,
      "outputs": []
    },
    {
      "cell_type": "markdown",
      "metadata": {
        "id": "vqXorEQwhjY2",
        "colab_type": "text"
      },
      "source": [
        "## Network"
      ]
    },
    {
      "cell_type": "code",
      "metadata": {
        "id": "XeDq-ngd74k7",
        "colab_type": "code",
        "colab": {}
      },
      "source": [
        "def conv(kernel_size: int, in_channels: int, out_channels: int) -> nn.Conv2d:\n",
        "  \"\"\"Create a 2d convolutional layer.\n",
        "  \n",
        "  Params\n",
        "  ------\n",
        "  kernel_size: int\n",
        "    the kernel will have size (kernel_size x kernel_size)\n",
        "\n",
        "  in_channels: int\n",
        "    the number input feature maps\n",
        "\n",
        "  out_channels: int\n",
        "    the number of output feature maps\n",
        "\n",
        "  Returns\n",
        "  -------\n",
        "  Conv2d\n",
        "    a kernel_size x kernel_size convolutional layer\n",
        "  \"\"\"\n",
        "\n",
        "  return nn.Conv2d(in_channels, out_channels, kernel_size=kernel_size, padding=0)\n",
        "\n",
        "def conv_activate(in_channels: int, out_channels: int, init_method) -> nn.Sequential:\n",
        "  \"\"\"Two 3x3 convolutions followed by relus.\n",
        "  \n",
        "  Params\n",
        "  ------\n",
        "  in_channels: int\n",
        "    number of input feature maps for the first convolution\n",
        "\n",
        "  out_channels: int\n",
        "    number of input maps for the second convolution; number of output feature \n",
        "    maps for both convolutions\n",
        "\n",
        "  Returns\n",
        "  -------\n",
        "  nn.Sequential\n",
        "    sequence of a 3x3 convolution, relu, 3x3 convolution, relu\n",
        "  \"\"\"\n",
        "  c1 = conv(3, in_channels, out_channels)\n",
        "  c2 = conv(3, out_channels, out_channels)\n",
        "\n",
        "  if init_method == 'xavier':\n",
        "    torch.nn.init.xavier_normal_(c1.weight) \n",
        "    torch.nn.init.xavier_normal_(c2.weight) \n",
        "  elif init_method == 'kaiming':\n",
        "    torch.nn.init.kaiming_normal_(c1.weight)\n",
        "    torch.nn.init.kaiming_normal_(c2.weight)\n",
        "  else:\n",
        "    raise ValueError(f\"Invalid weight initialization method {init_method}.\")\n",
        "    \n",
        "  return nn.Sequential(\n",
        "      c1,\n",
        "      nn.ReLU(),\n",
        "      c2,\n",
        "      nn.ReLU())\n",
        "\n",
        "class Contraction(nn.Module):\n",
        "  \"\"\"Class representing one step in the contracting path.\n",
        "  \n",
        "  One step consists of two 3x3 convolutions, each followed by a relu. These\n",
        "  convolutions/relus are then followd by a max pooling operation. Both the \n",
        "  result from the convs/relus and the max pooling are returned, as the former\n",
        "  is needed for the expanding path, and the latter for continuing the \n",
        "  contracting path.\n",
        "  \"\"\"\n",
        "\n",
        "  def __init__(self, in_channels: int, out_channels: int, init_method: str):\n",
        "    super(Contraction, self).__init__()\n",
        "    \n",
        "    self.conv_activate = conv_activate(in_channels, out_channels, init_method)\n",
        "    self.maxpool = nn.MaxPool2d(2)\n",
        "   \n",
        "  def forward(self, x):\n",
        "    x = self.conv_activate(x) \n",
        "    mp = self.maxpool(x)\n",
        "\n",
        "    return mp, x\n",
        "    \n",
        "class Expansion(nn.Module):\n",
        "  \"\"\"Class representing one step in the expanding path.\n",
        "\n",
        "  One step consists of either:\n",
        "    1. An upsampling followed by a 2x2 convolution.\n",
        "    2. A 2x2 transpose convolution.\n",
        "\n",
        "    Both of these act on the output from the previous layer concatenated\n",
        "    with the feature map from the corresponding layer in the contracting path.\n",
        "\n",
        "  Followed by two 3x3 convolutions, each followed by a relu.\n",
        "  \"\"\"\n",
        "\n",
        "  def __init__(self, in_channels: int, out_channels: int, up_method: str, init_method: str):\n",
        "    super(Expansion, self).__init__()\n",
        "    \n",
        "    if up_method == 'upsample':\n",
        "      self.up2x2 = nn.Sequential(\n",
        "          nn.Upsample(scale_factor=2, mode = 'nearest'), # mode is nearest to match keras' default\n",
        "          conv(2, in_channels, out_channels)\n",
        "      )\n",
        "    elif up_method == 'transpose':\n",
        "      self.up2x2 = nn.ConvTranspose2d(in_channels, out_channels, kernel_size=2, stride=2)\n",
        "    else:\n",
        "      print(\"Invalid upconvolution method.\")\n",
        "\n",
        "    self.conv_activate = conv_activate(in_channels, out_channels, init_method)\n",
        "\n",
        "  def forward(self, x, fm):\n",
        "    \"\"\"\n",
        "    Params\n",
        "    ------\n",
        "    fm\n",
        "      feature map from the corresponding layer in the contracting path\n",
        "    \"\"\"\n",
        "    \n",
        "    x = self.up2x2(x)\n",
        "\n",
        "    # concatenate the previously extracted feature map with the upsampled map\n",
        "    fm = center_crop_feature_map(fm, x)\n",
        "    x = torch.cat([fm, x], dim=1)  \n",
        "    x = self.conv_activate(x)\n",
        "      \n",
        "    return x\n",
        "\n",
        "\n",
        "class UNet(nn.Module):\n",
        "  def __init__(self, num_classes: int, up_method = 'upsample', init_method = 'kaiming'):\n",
        "    super(UNet, self).__init__()    \n",
        "\n",
        "    self.contraction1 = Contraction(1, 64, init_method)\n",
        "    self.contraction2 = Contraction(64, 128, init_method)\n",
        "    self.contraction3 = Contraction(128, 256, init_method)\n",
        "    self.contraction4 = Contraction(256, 512, init_method)\n",
        "\n",
        "    self.bottomlayer = Contraction(512, 1024, init_method)\n",
        "    \n",
        "    self.expansion4 = Expansion(1024, 512, up_method, init_method)\n",
        "    self.expansion3 = Expansion(512, 256, up_method, init_method)\n",
        "    self.expansion2 = Expansion(256, 128, up_method, init_method)\n",
        "    self.expansion1 = Expansion(128, 64, up_method, init_method)\n",
        "        \n",
        "    self.map_to_classes = conv(1, 64, num_classes)\n",
        "    if init_method == 'xavier':\n",
        "      torch.nn.init.xavier_normal_(self.map_to_classes.weight)\n",
        "    elif init_method == 'kaiming':\n",
        "      torch.nn.init.kaiming_normal_(self.map_to_classes.weight)\n",
        "    else:\n",
        "      raise ValueError(f\"Invalid weight initialization method {init_method}.\")\n",
        "    \n",
        "\n",
        "  def forward(self, x):\n",
        "    feature_maps = []\n",
        "\n",
        "    x, fm = self.contraction1(x)\n",
        "    feature_maps.append(fm)\n",
        "    x, fm = self.contraction2(x)\n",
        "    feature_maps.append(fm)    \n",
        "    x, fm = self.contraction3(x)\n",
        "    feature_maps.append(fm)\n",
        "    x, fm = self.contraction4(x)\n",
        "    feature_maps.append(fm)\n",
        "\n",
        "    \n",
        "    _, x = self.bottomlayer(x)\n",
        "    \n",
        "    \n",
        "    x = self.expansion4(x, feature_maps[3])   \n",
        "    x = self.expansion3(x, feature_maps[2])\n",
        "    x = self.expansion2(x, feature_maps[1])\n",
        "    x = self.expansion1(x, feature_maps[0])\n",
        "\n",
        "    x = self.map_to_classes(x)\n",
        "    return x"
      ],
      "execution_count": 0,
      "outputs": []
    },
    {
      "cell_type": "markdown",
      "metadata": {
        "id": "vsx4-EdZhyr8",
        "colab_type": "text"
      },
      "source": [
        "## Dataset\n"
      ]
    },
    {
      "cell_type": "code",
      "metadata": {
        "id": "tCDIXmeQ-uF8",
        "colab_type": "code",
        "colab": {}
      },
      "source": [
        "class UnetDataset(Dataset):\n",
        "  \"\"\"Unet dataset.\"\"\"\n",
        "\n",
        "  def __init__(self, image_dir: str, label_dir: str):#, label_dim: int):\n",
        "    \"\"\"\n",
        "    Params\n",
        "    ------\n",
        "    image_dir: str\n",
        "      directory with the original images\n",
        "    \n",
        "    label_dir: str\n",
        "      directory with the ground truth segmentations\n",
        "    \"\"\"\n",
        "\n",
        "    self.image_dir = Path(image_dir)\n",
        "    self.label_dir = Path(label_dir)\n",
        "\n",
        "  def __len__(self):\n",
        "    return len(list(self.image_dir.glob(\"*.tif\")))\n",
        "\n",
        "  def __getitem__(self, idx):\n",
        "    image_list = list(self.image_dir.glob(\"*.tif\"))\n",
        "    image_path = image_list[idx]\n",
        "    label_path = self.label_dir.joinpath(image_path.name.replace(\"train\", \"label\").replace(\"test\", \"label\"))\n",
        "    \n",
        "    image = Image.open(image_path)\n",
        "    image = transforms.ToTensor()(image)  \n",
        "\n",
        "    label = Image.open(label_path)\n",
        "    label = transforms.ToTensor()(label)\n",
        "    label = label.long()\n",
        "    _, lh, lw = label.size()\n",
        "    label = torch.reshape(label, (lh, lw))\n",
        "\n",
        "    return (image, label)"
      ],
      "execution_count": 0,
      "outputs": []
    },
    {
      "cell_type": "markdown",
      "metadata": {
        "id": "jSdEefou-Raq",
        "colab_type": "text"
      },
      "source": [
        "## Training method\n"
      ]
    },
    {
      "cell_type": "code",
      "metadata": {
        "id": "On_I-agRHsAp",
        "colab_type": "code",
        "colab": {}
      },
      "source": [
        "def plot_learning_curve(train_losses: list, test_losses: list, title: str, save_plot = False, save_dir = None):\n",
        "  \"\"\"Plots and shows training vs. test losses.\n",
        "  The number of train losses should be equal to the number of test losses.\n",
        "\n",
        "  Params\n",
        "  ------\n",
        "  train_losses: list\n",
        "    training losses as floating point values\n",
        "  \n",
        "  train_losses: list\n",
        "    test losses as floating point values\n",
        "\n",
        "  title: str\n",
        "    title of the plot\n",
        "\n",
        "  save_plot: bool\n",
        "    whether or not the plot should be saved\n",
        "\n",
        "  \"\"\"\n",
        "  iterations = range(0, len(train_losses))\n",
        "  plt.figure(figsize=(20,15))\n",
        "  plt.plot(iterations, train_losses, label= \"train\")\n",
        "  plt.plot(iterations, test_losses, label= \"test\")\n",
        "  plt.title(title)\n",
        "  plt.ylabel('loss')\n",
        "  plt.xlabel('epoch')\n",
        "  plt.legend(['train', 'test'], loc='upper left')\n",
        "  if save_plot:\n",
        "    if save_dir is not None:\n",
        "      plt.savefig(f\"{save_dir}{title}.png\")\n",
        "    else:\n",
        "      print(\"No save directory provided. Curve was not saved.\")\n",
        "  plt.show()"
      ],
      "execution_count": 0,
      "outputs": []
    },
    {
      "cell_type": "code",
      "metadata": {
        "id": "iAm6vDvfNDRQ",
        "colab_type": "code",
        "colab": {}
      },
      "source": [
        "def train_unet(train_loader: DataLoader, test_loader: DataLoader, \n",
        "               up_method = 'upsample', init_method='kaiming', num_classes = 2, \n",
        "               num_epochs = 100, logging_mode = 'fine',\n",
        "               logging_interval = 25, early_stop_patience = 5, early_stop_treshold = 1e-3,\n",
        "               plot_curve: bool = True, save_model: bool = True, save_dir: str = None) -> (UNet, list, list):\n",
        "  \n",
        "  if save_model and save_dir is None:\n",
        "    print(\"Model is supposed to be saved, but no save directory was provided.\")\n",
        "    print(\"No training will take place.\")\n",
        "    return\n",
        "  \n",
        "  print(\"Started.\")\n",
        "  net: UNet = UNet(num_classes=num_classes, up_method=up_method, init_method=init_method)\n",
        "  net.train()\n",
        "  net.cuda(0)\n",
        "\n",
        "  criterion = nn.CrossEntropyLoss()\n",
        "  optimizer = optim.SGD(net.parameters(), lr= 0.01, momentum=0.99)\n",
        "  scheduler = optim.lr_scheduler.ReduceLROnPlateau(optimizer, min_lr = 1e-5)\n",
        "  \n",
        "\n",
        "  train_losses = []\n",
        "  test_losses = []\n",
        "  min_loss = float(\"inf\")\n",
        "  early_stop_timer = 0\n",
        "  stopping_epoch = 0\n",
        "  for epoch in range(num_epochs):\n",
        "    stopping_epoch = epoch + 1\n",
        "    running_loss = 0.0\n",
        "    e_start = time.time()\n",
        "    for i, (image, label) in enumerate(train_loader):      \n",
        "      image = image.cuda(0)\n",
        "      label = label.cuda(0)\n",
        "\n",
        "      output = net(image)\n",
        "      _, _, oh, ow = output.size()\n",
        "      \n",
        "      label = center_crop_image_tensor(label, (oh, ow))\n",
        "      loss = criterion(output, label)\n",
        "      optimizer.zero_grad()\n",
        "      loss.backward()\n",
        "      optimizer.step()    \n",
        "\n",
        "      running_loss += loss.item()\n",
        "      \n",
        "      if i % logging_interval == logging_interval - 1:\n",
        "        if logging_mode == \"fine\":\n",
        "          print(f'[{epoch + 1}, {i + 1}] loss: {running_loss/logging_interval}')\n",
        "        if plot_curve:  \n",
        "          train_losses.append(running_loss/logging_interval)\n",
        "        running_loss = 0.0\n",
        "        \n",
        "        if plot_curve:\n",
        "          net.eval()\n",
        "          test_loss = get_loss(test_loader, net, criterion)\n",
        "          test_losses.append(test_loss)\n",
        "          net.train()\n",
        "\n",
        "    if logging_mode == 'fine' or logging_mode == 'coarse':  \n",
        "      print(f'[{epoch + 1}/{num_epochs}] completed in {time.time() - e_start} seconds')  \n",
        "\n",
        "    net.eval()\n",
        "    epoch_test_loss = get_loss(test_loader, net, criterion)\n",
        "    net.train()\n",
        "    scheduler.step(epoch_test_loss)\n",
        "\n",
        "    if min_loss - epoch_test_loss > early_stop_treshold:\n",
        "      if logging_mode == \"fine\":\n",
        "        print(f\"Loss diff {min_loss - epoch_test_loss} larger than treshold {early_stop_treshold}.\")\n",
        "      min_loss = epoch_test_loss\n",
        "      early_stop_timer = 0\n",
        "    else:\n",
        "      early_stop_timer += 1\n",
        "      if logging_mode == \"fine\":\n",
        "        print(f\"Loss diff {min_loss - epoch_test_loss} smaller than treshold {early_stop_treshold}.\")\n",
        "        print(f\"Early stop timer increased to {early_stop_timer}.\")\n",
        "    if early_stop_timer >= early_stop_patience:\n",
        "      break\n",
        "    if save_model:\n",
        "      checkpoint = { \n",
        "        'epoch': epoch,\n",
        "        'model': net.state_dict(),\n",
        "        'optimizer': optimizer.state_dict(),\n",
        "        'lr_sched': scheduler.state_dict()}\n",
        "      torch.save(checkpoint, f'{save_dir}/checkpoint_{up_method}_{init_method}_{num_epochs}_{len(train_loader)}.pth')\n",
        "\n",
        "  if logging_mode == 'fine' or logging_mode == 'coarse':\n",
        "    print(f\"Stopped training after {stopping_epoch} epochs.\")\n",
        "\n",
        "  if save_model:\n",
        "    torch.save(net.state_dict(), f'{save_dir}/model_{up_method}_{init_method}_{num_epochs}_{stopping_epoch}_{len(train_loader)}.pth')\n",
        "    print(f\"Saved model to {save_dir}/model_{up_method}_{init_method}_{num_epochs}_{stopping_epoch}_{len(train_loader)}.pth\")\n",
        "\n",
        "  if plot_curve:\n",
        "    plot_learning_curve(train_losses, test_losses, f\"{up_method}_{init_method}_{num_epochs}_{stopping_epoch}_{len(train_loader)}\", save_plot=True, save_dir = save_dir)\n",
        "  \n",
        "  return net, train_losses, test_losses\n",
        "\n"
      ],
      "execution_count": 0,
      "outputs": []
    },
    {
      "cell_type": "markdown",
      "metadata": {
        "id": "bYZC6Jn1-UUP",
        "colab_type": "text"
      },
      "source": [
        "## Actually train the network!\n"
      ]
    },
    {
      "cell_type": "markdown",
      "metadata": {
        "id": "o-0fhOwZ-ZTh",
        "colab_type": "text"
      },
      "source": [
        "### Download the data\n",
        "\n",
        "We mount our Google Drive, because this is where we would like to save/load trained models and images."
      ]
    },
    {
      "cell_type": "code",
      "metadata": {
        "id": "YP3wTQMN-Ydr",
        "colab_type": "code",
        "outputId": "29de452d-27b1-452b-9c42-9e2393d6b1a9",
        "colab": {
          "base_uri": "https://localhost:8080/",
          "height": 34
        }
      },
      "source": [
        "download_data(True, True, False)\n",
        "drive.mount('/content/drive')"
      ],
      "execution_count": 97,
      "outputs": [
        {
          "output_type": "stream",
          "text": [
            "Drive already mounted at /content/drive; to attempt to forcibly remount, call drive.mount(\"/content/drive\", force_remount=True).\n"
          ],
          "name": "stdout"
        }
      ]
    },
    {
      "cell_type": "markdown",
      "metadata": {
        "id": "3bvsqMih-b4s",
        "colab_type": "text"
      },
      "source": [
        "### Define the dataloaders"
      ]
    },
    {
      "cell_type": "markdown",
      "metadata": {
        "id": "aEoN2srnAmnY",
        "colab_type": "text"
      },
      "source": [
        "**Small training and validation dataloader**\n",
        "\n",
        "Load the small rotated dataset and split it into a training and a validation set. The training set is used for training, and the validation set for intermediate validation, i.e. to determine when the model starts to overfit."
      ]
    },
    {
      "cell_type": "code",
      "metadata": {
        "id": "ArWgA6dBOibD",
        "colab_type": "code",
        "colab": {}
      },
      "source": [
        "small_dpath = \"/content/split-tiny-augmented-segmentation-challenge-data/train_5x\"\n",
        "small_labels_dpath = \"/content/split-tiny-augmented-segmentation-challenge-data/train_labels_5x\"\n",
        "\n",
        "small_dataset = UnetDataset(small_dpath, small_labels_dpath)\n",
        "small_training_set, small_val_set = torch.utils.data.random_split(small_dataset, [math.floor(0.8 * len(small_dataset)), math.ceil(0.2 * len(small_dataset))])\n",
        "\n",
        "small_train_loader = DataLoader(small_training_set, batch_size = 1, pin_memory = True)\n",
        "small_val_loader = DataLoader(small_val_set, batch_size = 1, pin_memory = True)"
      ],
      "execution_count": 0,
      "outputs": []
    },
    {
      "cell_type": "markdown",
      "metadata": {
        "colab_type": "text",
        "id": "k8G_Zby-CiPk"
      },
      "source": [
        "**Small rotated training and validation dataloader**\n",
        "\n",
        "Load the small rotated dataset and split it into a training and a validation set."
      ]
    },
    {
      "cell_type": "code",
      "metadata": {
        "colab_type": "code",
        "id": "Ppb6bl33CiPm",
        "colab": {}
      },
      "source": [
        "small_rotated_dpath = \"/content/rotated-tiny-augmented-segmentation-challenge-data/train_5x\"\n",
        "small_rotated_labels_dpath = \"/content/rotated-tiny-augmented-segmentation-challenge-data/train_labels_5x\"\n",
        "\n",
        "small_rotated_dataset = UnetDataset(small_rotated_dpath, small_rotated_labels_dpath)\n",
        "small_rotated_training_set, small_rotated_val_set = torch.utils.data.random_split(small_rotated_dataset, [math.floor(0.8 * len(small_rotated_dataset)), math.ceil(0.2 * len(small_rotated_dataset))])\n",
        "\n",
        "small_rotated_train_loader = DataLoader(small_rotated_training_set, batch_size = 1, pin_memory = True)\n",
        "small_rotated_val_loader = DataLoader(small_rotated_val_set, batch_size = 1, pin_memory = True)"
      ],
      "execution_count": 0,
      "outputs": []
    },
    {
      "cell_type": "markdown",
      "metadata": {
        "colab_type": "text",
        "id": "auJtL8PyDJCV"
      },
      "source": [
        "**Large training and validation dataloader**\n",
        "\n",
        "Load the large dataset and split it into a training and a validation set."
      ]
    },
    {
      "cell_type": "code",
      "metadata": {
        "colab_type": "code",
        "id": "C2w_7dsMDJCa",
        "colab": {}
      },
      "source": [
        "large_dpath = \"/content/50x-augmented-segmentation-challenge-data/train_50x\"\n",
        "large_labels_dpath = \"/content/50x-augmented-segmentation-challenge-data/train_labels_50x\"\n",
        "\n",
        "large_dataset = UnetDataset(large_dpath, large_labels_dpath)\n",
        "large_training_set, large_val_set = torch.utils.data.random_split(large_dataset, [math.floor(0.8 * len(large_dataset)), math.ceil(0.2 * len(large_dataset))])\n",
        "\n",
        "large_train_loader = DataLoader(large_training_set, batch_size = 1, pin_memory = True)\n",
        "large_val_loader = DataLoader(large_val_set, batch_size = 1, pin_memory = True)"
      ],
      "execution_count": 0,
      "outputs": []
    },
    {
      "cell_type": "markdown",
      "metadata": {
        "id": "w3juTzRq-fYZ",
        "colab_type": "text"
      },
      "source": [
        "### Train the network\n",
        "\n",
        "You can choose what training and validation data to use, as well as which upsampling method and which initialisation method. Please note that 'upsample' only works with 'xavier' initialization. On the other hand, 'transpose' work with both 'xavier' and 'kaiming' initialization.\n",
        "\n",
        "We use the small rotated augmented dataset because it offers a good tradeoff between number of images and training time, and because it includes both rotated and non-rotated images."
      ]
    },
    {
      "cell_type": "code",
      "metadata": {
        "id": "PL-9wAzsF4TM",
        "colab_type": "code",
        "colab": {}
      },
      "source": [
        "train_loader = small_rotated_train_loader\n",
        "val_loader = small_rotated_val_loader\n",
        "save_dir = \"/content/drive/My Drive/models\""
      ],
      "execution_count": 0,
      "outputs": []
    },
    {
      "cell_type": "markdown",
      "metadata": {
        "id": "o-eM-QauESPX",
        "colab_type": "text"
      },
      "source": [
        "**Small rotated dataset, Xavier initialization, upsample upsampling**"
      ]
    },
    {
      "cell_type": "code",
      "metadata": {
        "id": "78Kf_PdkPIqn",
        "colab_type": "code",
        "outputId": "a4ceed07-d8b9-491a-a5e8-e0b86a19b8e3",
        "colab": {
          "base_uri": "https://localhost:8080/",
          "height": 323
        }
      },
      "source": [
        "small_net_up_xa, small_trloss_up_xa, small_tloss_up_xa = train_unet(train_loader, val_loader, up_method = 'upsample', init_method='xavier', save_dir = save_dir, early_stop_patience=15)"
      ],
      "execution_count": 0,
      "outputs": [
        {
          "output_type": "stream",
          "text": [
            "Started.\n",
            "[1, 25] loss: 0.6077567529678345\n",
            "[1, 50] loss: 0.5467431390285492\n",
            "[1, 75] loss: 0.46701841950416567\n",
            "[1, 100] loss: 0.4941413354873657\n",
            "[1, 125] loss: 0.5087906861305237\n",
            "[1, 150] loss: 0.48531694412231446\n",
            "[1, 175] loss: 0.49989427089691163\n",
            "[1, 200] loss: 0.4373620891571045\n",
            "[1/100] completed in 422.8961021900177 seconds\n",
            "Loss diff inf larger than treshold 0.001.\n",
            "[2, 25] loss: 0.45961405634880065\n",
            "[2, 50] loss: 0.4413933002948761\n",
            "[2, 75] loss: 0.43994797348976133\n",
            "[2, 100] loss: 0.46190872430801394\n",
            "[2, 125] loss: 0.4612396490573883\n",
            "[2, 150] loss: 0.4487589085102081\n",
            "[2, 175] loss: 0.46905665755271914\n"
          ],
          "name": "stdout"
        }
      ]
    },
    {
      "cell_type": "markdown",
      "metadata": {
        "id": "FzuW5l8sEZVP",
        "colab_type": "text"
      },
      "source": [
        "**Small rotated dataset, Xavier initialization, transpose upsampling**"
      ]
    },
    {
      "cell_type": "code",
      "metadata": {
        "id": "3o91gDoda9AR",
        "colab_type": "code",
        "colab": {}
      },
      "source": [
        "small_net_tr_ka, small_trloss_tr_ka, small_tloss_tr_ka = train_unet(train_loader, val_loader, up_method = 'transpose', init_method='kaiming', save_dir = save_dir, early_stop_patience=15)"
      ],
      "execution_count": 0,
      "outputs": []
    },
    {
      "cell_type": "markdown",
      "metadata": {
        "id": "-eR1edL-EYV_",
        "colab_type": "text"
      },
      "source": [
        "**Small rotated dataset, Kaiming initialization, transpose upsampling**"
      ]
    },
    {
      "cell_type": "code",
      "metadata": {
        "id": "5TvGjEVDEosy",
        "colab_type": "code",
        "colab": {}
      },
      "source": [
        "small_net_tr_xa, small_trloss_tr_xa, small_tloss_tr_xa = train_unet(small_train_loader, small_val_loader, up_method = 'transpose', init_method='xavier', save_dir = save_dir,, early_stop_patience=15)"
      ],
      "execution_count": 0,
      "outputs": []
    },
    {
      "cell_type": "markdown",
      "metadata": {
        "id": "eCQi84bEFDe2",
        "colab_type": "text"
      },
      "source": [
        "## Evaluate the network"
      ]
    },
    {
      "cell_type": "markdown",
      "metadata": {
        "id": "ElnTYsMr4gY4",
        "colab_type": "text"
      },
      "source": [
        "## Evaluation Methods\n",
        "\n"
      ]
    },
    {
      "cell_type": "code",
      "metadata": {
        "id": "yUOzejG-aroC",
        "colab_type": "code",
        "colab": {}
      },
      "source": [
        "def true_false_pos_neg(output: np.ndarray, label: np.ndarray, threshold: float):\n",
        "  output[output > threshold] = 1\n",
        "  output[output <= threshold] = 0\n",
        "\n",
        "  true_pos = np.sum((output == label) & (output == 1))\n",
        "  false_pos = np.sum((output != label) & (output == 1))\n",
        "  true_neg = np.sum((output == label) & (output == 0))\n",
        "  false_neg = np.sum((output != label) & (output == 0))\n",
        "\n",
        "  return true_pos, false_pos, true_neg, false_neg\n",
        "\n",
        "def f_score(output: np.ndarray, label: np.ndarray, threshold: float):\n",
        "  true_pos, false_pos, true_neg, false_neg = true_false_pos_neg(output, label, threshold)\n",
        "\n",
        "  precision, recall, fscore = 0, 0, 0\n",
        "\n",
        "  if false_pos == 0 : \n",
        "    precision = 1\n",
        "  else:  \n",
        "    precision = true_pos / (true_pos + false_pos)\n",
        "\n",
        "  if false_neg == 0:\n",
        "    recall = 1\n",
        "  else:\n",
        "    recall = true_pos / (true_pos + false_neg)\n",
        "\n",
        "  if precision + recall > 0:\n",
        "    fscore = 2 * precision * recall / (precision + recall)  \n",
        "  return fscore\n",
        "\n",
        "def best_f_score(output, label):\n",
        "  thresholds = np.linspace(0,1,11)\n",
        "  best_f = 0\n",
        "\n",
        "  for thr in thresholds:\n",
        "    new_f = f_score(output, label, thr)\n",
        "    if new_f > best_f:\n",
        "      best_f = new_f\n",
        "  return best_f\n",
        "\n",
        "def pixel_error(output, label):\n",
        "  best_f = best_f_score(output.copy(), label)\n",
        "  return 1 - best_f\n",
        "\n",
        "\n",
        "def naive_pixel_error(output: np.ndarray, label: np.ndarray):\n",
        "  \"\"\"Calculates the percentage of pixels that were NOT correctly classified.\n",
        "\n",
        "  Params\n",
        "  ------\n",
        "  output: np.ndarray\n",
        "    a 2-dimensional integer array in which the background pixels are labeled with a 1\n",
        "    representing the predicted labels\n",
        "\n",
        "  label: np.ndarray\n",
        "    a 2-dimensional integer array in which the background pixels are labeled with a 1\n",
        "    representing the true labels\n",
        "  \n",
        "  \"\"\"\n",
        "\n",
        "  return np.sum(output != label)/output.size\n",
        "\n",
        "def intersection_over_union(predicted: np.ndarray, label: np.ndarray):\n",
        "  \"\"\"Calculates the intersection over union of the output and the true label.\n",
        "\n",
        "  Params\n",
        "  ------\n",
        "  predicted: np.ndarray\n",
        "    a 2-dimensional integer array in which the background pixels are labeled \n",
        "    with a 1; represents the predicted labels\n",
        "\n",
        "  label: np.ndarray\n",
        "    a 2-dimensional integer array in which the background pixels are labeled \n",
        "    with a 1; represents the true labels\n",
        "  \n",
        "  \"\"\"\n",
        "  \n",
        "  intersection = (predicted & label).sum((0,1))\n",
        "  union = (predicted | label).sum((0,1))\n",
        "  return intersection / union\n",
        "\n",
        "\n",
        "def binary_mask(image: np.ndarray, chan = 1):\n",
        "  \"\"\"Apply mask to image. Every value over 0.5 becomes a 1, every value\n",
        "  under 0.5 becomes a 0.\n",
        "  \n",
        "  Params\n",
        "  ------\n",
        "  image: np.ndarray\n",
        "    a H X W X C image; H is height, W is width, C is channels (assumed to be 2)\n",
        "\n",
        "  chan: int\n",
        "    whether the correct labelings can be found in channel 0 or 1\n",
        "  \"\"\"\n",
        "\n",
        "  masked = image[:,:,chan]\n",
        "  masked[masked < 0.5] = 0\n",
        "  masked[masked >= 0.5] = 1\n",
        "  return masked.astype('int')\n",
        "\n",
        "def argmax_mask(image: np.ndarray):\n",
        "  \"\"\"Apply mask to an image. Finds the index of the channel with the largest\n",
        "  value.\n",
        "\n",
        "  Params\n",
        "  ------\n",
        "  image: np.ndarray\n",
        "    H X W X C image\n",
        "    H is the height, W the width, C the number of channels\n",
        "  \"\"\"\n",
        "  return np.argmax(image, axis=2)\n",
        "\n"
      ],
      "execution_count": 0,
      "outputs": []
    },
    {
      "cell_type": "markdown",
      "metadata": {
        "id": "NGtLGQ-pG046",
        "colab_type": "text"
      },
      "source": [
        "### Define test dataloaders\n",
        "\n",
        "These load data that was held out completely, i.e. was not used in training or intermediate validation."
      ]
    },
    {
      "cell_type": "markdown",
      "metadata": {
        "id": "QlEB748WA2to",
        "colab_type": "text"
      },
      "source": [
        "**Small test dataloader**\n"
      ]
    },
    {
      "cell_type": "code",
      "metadata": {
        "id": "Zwa66PGoA5e4",
        "colab_type": "code",
        "colab": {}
      },
      "source": [
        "small_test_dpath = \"/content/split-tiny-augmented-segmentation-challenge-data/test_5x\"\n",
        "small_test_labels_dpath = \"/content/split-tiny-augmented-segmentation-challenge-data/test_labels_5x\"\n",
        "\n",
        "small_test_dataset = UnetDataset(small_test_dpath, small_test_labels_dpath)\n",
        "small_test_dataloader = DataLoader(small_test_dataset, batch_size = 1, pin_memory = True)"
      ],
      "execution_count": 0,
      "outputs": []
    },
    {
      "cell_type": "markdown",
      "metadata": {
        "colab_type": "text",
        "id": "dseU-dmjGjJq"
      },
      "source": [
        "**Small rotated test dataloader**"
      ]
    },
    {
      "cell_type": "code",
      "metadata": {
        "id": "4I_fklMoG_Bj",
        "colab_type": "code",
        "colab": {}
      },
      "source": [
        "small_rotated_test_dpath = \"/content/rotated-tiny-augmented-segmentation-challenge-data/test_5x\"\n",
        "small_rotated_test_labels_dpath = \"/content/rotated-tiny-augmented-segmentation-challenge-data/test_labels_5x\"\n",
        "\n",
        "small_rotated_test_dataset = UnetDataset(small_rotated_test_dpath, small_rotated_test_labels_dpath)\n",
        "small_rotated_test_dataloader = DataLoader(small_rotated_test_dataset, batch_size = 1, pin_memory = True)"
      ],
      "execution_count": 0,
      "outputs": []
    },
    {
      "cell_type": "markdown",
      "metadata": {
        "colab_type": "text",
        "id": "TuR93kd-GjXj"
      },
      "source": [
        "**Large test dataloader**"
      ]
    },
    {
      "cell_type": "code",
      "metadata": {
        "colab_type": "code",
        "id": "c_m7N463GjXk",
        "colab": {}
      },
      "source": [
        "large_test_dpath = \"/content/50x-augmented-segmentation-challenge-data/test_50x\"\n",
        "large_test_labels_dpath = \"/content/50x-augmented-segmentation-challenge-data/test_labels_50x\"\n",
        "\n",
        "large_test_dataset = UnetDataset(large_test_dpath, large_test_labels_dpath)\n",
        "large_test_dataloader = DataLoader(large_test_dataset, batch_size = 1, pin_memory = True)"
      ],
      "execution_count": 0,
      "outputs": []
    },
    {
      "cell_type": "markdown",
      "metadata": {
        "id": "vfSiJktMMY_h",
        "colab_type": "text"
      },
      "source": [
        "## Load network\n",
        "\n",
        "If you trained a network earlier in this notebook you don't need to load one, but if you want to, this is where you can do it!"
      ]
    },
    {
      "cell_type": "code",
      "metadata": {
        "colab_type": "code",
        "outputId": "39e40d55-643e-4d42-8c16-55d15d10ef95",
        "id": "BRkEDrDXKHug",
        "colab": {
          "base_uri": "https://localhost:8080/",
          "height": 34
        }
      },
      "source": [
        "up_xa_net = UNet(num_classes=2, up_method='upsample', init_method='xavier')\n",
        "up_xa_net.load_state_dict(torch.load(\"/content/drive/My Drive/models/model_upsample_xavier_100_48_216.pth\"))\n",
        "up_xa_net.cuda(0)\n",
        "print()"
      ],
      "execution_count": 70,
      "outputs": [
        {
          "output_type": "stream",
          "text": [
            "\n"
          ],
          "name": "stdout"
        }
      ]
    },
    {
      "cell_type": "code",
      "metadata": {
        "id": "VDyWc6PkNtM2",
        "colab_type": "code",
        "colab": {
          "base_uri": "https://localhost:8080/",
          "height": 34
        },
        "outputId": "751fc20d-3ddf-4c84-f52f-cdf3f6f11813"
      },
      "source": [
        "tr_ka_net = UNet(num_classes=2, up_method='transpose', init_method='kaiming')\n",
        "tr_ka_net.load_state_dict(torch.load(\"/content/drive/My Drive/models/model_transpose_kaiming_100_23_216.pth\"))\n",
        "tr_ka_net.cuda(0)\n",
        "print()"
      ],
      "execution_count": 71,
      "outputs": [
        {
          "output_type": "stream",
          "text": [
            "\n"
          ],
          "name": "stdout"
        }
      ]
    },
    {
      "cell_type": "code",
      "metadata": {
        "id": "sljz6YexNtX5",
        "colab_type": "code",
        "colab": {
          "base_uri": "https://localhost:8080/",
          "height": 34
        },
        "outputId": "3a76f4cd-7f11-4f6b-9a16-8121b12c11b8"
      },
      "source": [
        "net = UNet(num_classes=2, up_method='transpose', init_method='xavier')\n",
        "net.load_state_dict(torch.load(\"/content/drive/My Drive/models/model_transpose_xavier_100_62_108.pth\"))\n",
        "net.cuda(0)\n",
        "print()"
      ],
      "execution_count": 72,
      "outputs": [
        {
          "output_type": "stream",
          "text": [
            "\n"
          ],
          "name": "stdout"
        }
      ]
    },
    {
      "cell_type": "markdown",
      "metadata": {
        "id": "50hmeyPtOQcK",
        "colab_type": "text"
      },
      "source": [
        "### Get output\n",
        "\n"
      ]
    },
    {
      "cell_type": "code",
      "metadata": {
        "id": "WBsSOsgHOxix",
        "colab_type": "code",
        "colab": {}
      },
      "source": [
        "test_dataloader = small_rotated_test_dataloader"
      ],
      "execution_count": 0,
      "outputs": []
    },
    {
      "cell_type": "code",
      "metadata": {
        "colab_type": "code",
        "outputId": "01e57023-51a0-4fef-9d20-fb46974189e2",
        "id": "JWNmn3fcKHuk",
        "colab": {
          "base_uri": "https://localhost:8080/",
          "height": 51
        }
      },
      "source": [
        "cropped_images = []\n",
        "seg_images = []\n",
        "masked_images = []\n",
        "argmasked_images = []\n",
        "cropped_labels = []\n",
        "\n",
        "for i, (image, label) in enumerate(test_dataloader):      \n",
        "  image = image.cuda(0)\n",
        "  out = net(image)\n",
        "  out = torch.nn.functional.softmax(out)\n",
        "  out = out.cpu()\n",
        "\n",
        "  ob, oc, oh, ow = out.size()\n",
        "\n",
        "  out = out.reshape(oc, oh, ow).permute(1,2,0).detach().numpy()\n",
        "\n",
        "  seg_images.append(out)\n",
        "  masked_images.append(binary_mask(out))\n",
        "  argmasked_images.append(np.argmax(seg_images[i], axis=2))\n",
        "  cropped_labels.append(center_crop_image_tensor(label, (oh, ow)).reshape(oh, ow).detach().numpy())\n",
        "  cropped_images.append(center_crop_image_tensor(image.cpu().reshape(1,700,700), (oh, ow)).reshape(oh, ow).detach().numpy())\n",
        "\n"
      ],
      "execution_count": 81,
      "outputs": [
        {
          "output_type": "stream",
          "text": [
            "/usr/local/lib/python3.6/dist-packages/ipykernel_launcher.py:10: UserWarning: Implicit dimension choice for softmax has been deprecated. Change the call to include dim=X as an argument.\n",
            "  # Remove the CWD from sys.path while we load stuff.\n"
          ],
          "name": "stderr"
        }
      ]
    },
    {
      "cell_type": "markdown",
      "metadata": {
        "id": "4YwoeIaNbKuY",
        "colab_type": "text"
      },
      "source": [
        "### Evaluate\n"
      ]
    },
    {
      "cell_type": "code",
      "metadata": {
        "colab_type": "code",
        "outputId": "21a04577-9cda-40d5-c444-8247b15be069",
        "id": "JvZ5kJIGKHu0",
        "colab": {
          "base_uri": "https://localhost:8080/",
          "height": 68
        }
      },
      "source": [
        "IOUs = []\n",
        "naive_pixel_errors = []\n",
        "pixel_errors = []\n",
        "\n",
        "for i in range(0, len(cropped_labels)):\n",
        "  IOUs.append(intersection_over_union(masked_images[i], cropped_labels[i]))\n",
        "  naive_pixel_errors.append(naive_pixel_error(masked_images[i], cropped_labels[i]))\n",
        "  pixel_errors.append(pixel_error(seg_images[i][:,:,1], cropped_labels[i]))\n",
        "\n",
        "print(sum(IOUs)/len(IOUs))\n",
        "print(sum(naive_pixel_errors)/len(naive_pixel_errors))\n",
        "print(sum(pixel_errors)/len(pixel_errors))"
      ],
      "execution_count": 82,
      "outputs": [
        {
          "output_type": "stream",
          "text": [
            "0.837754336477677\n",
            "0.12479578434614472\n",
            "0.08851725073007703\n"
          ],
          "name": "stdout"
        }
      ]
    },
    {
      "cell_type": "markdown",
      "metadata": {
        "id": "_fc23TkfbN2j",
        "colab_type": "text"
      },
      "source": [
        "### Plot images\n"
      ]
    },
    {
      "cell_type": "code",
      "metadata": {
        "id": "NfKHF433Ng3d",
        "colab_type": "code",
        "colab": {
          "base_uri": "https://localhost:8080/",
          "height": 773
        },
        "outputId": "ca50923f-c4d3-4763-e3bc-fa265fc27e14"
      },
      "source": [
        "plt.imshow(seg_images[0][:,:,1], cmap='gray')\n",
        "plt.show()\n",
        "\n",
        "plt.imshow(argmasked_images[0], cmap='gray')\n",
        "plt.show()\n",
        "\n",
        "plt.imshow(masked_images[0], cmap= 'gray')\n",
        "plt.show()"
      ],
      "execution_count": 83,
      "outputs": [
        {
          "output_type": "display_data",
          "data": {
            "image/png": "[encoded data removed]",
            "text/plain": [
              "<Figure size 432x288 with 1 Axes>"
            ]
          },
          "metadata": {
            "tags": [],
            "needs_background": "light"
          }
        },
        {
          "output_type": "display_data",
          "data": {
            "image/png": "[encoded data removed]",
            "text/plain": [
              "<Figure size 432x288 with 1 Axes>"
            ]
          },
          "metadata": {
            "tags": [],
            "needs_background": "light"
          }
        },
        {
          "output_type": "display_data",
          "data": {
            "image/png": "[encoded data removed]",
            "text/plain": [
              "<Figure size 432x288 with 1 Axes>"
            ]
          },
          "metadata": {
            "tags": [],
            "needs_background": "light"
          }
        }
      ]
    }
  ]
}